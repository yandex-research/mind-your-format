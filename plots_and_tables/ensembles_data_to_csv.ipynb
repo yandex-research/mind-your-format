{
 "cells": [
  {
   "cell_type": "markdown",
   "source": [
    "This notebook parses results from the raw `templates_ensembles.py` output. In cells below, you may find `ensembles_data_path` variable; feel free to replace its value with your `--save_dir` used for `templates_ensembles.py` evaluation.\n",
    "\n",
    "Results are saved to `\"ensembles.csv\"`. If you only wish to reproduce plots and tables, please follow directly to `ensembles_results.ipynb`."
   ],
   "metadata": {
    "collapsed": false
   }
  },
  {
   "cell_type": "code",
   "execution_count": 1,
   "outputs": [],
   "source": [
    "import os\n",
    "import torch\n",
    "import numpy as np\n",
    "import pandas as pd"
   ],
   "metadata": {
    "collapsed": false
   }
  },
  {
   "cell_type": "code",
   "execution_count": 2,
   "outputs": [],
   "source": [
    "datasets = [\"trec\", \"sst2\", \"dbpedia\", \"agnews\"]\n",
    "\n",
    "labels_mp = {\n",
    "    \"trec\": dict(enumerate([\"Description\", \"Entity\", \"Expression\", \"Human\", \"Location\", \"Number\"])),\n",
    "    \"sst2\": dict(enumerate(['negative', 'positive'])),\n",
    "    \"dbpedia\": dict(enumerate([\"Company\", \"Educational Institution\", \"Artist\", \"Athlete\", \"Office Holder\",\n",
    "                                     \"Mean Of Transportation\", \"Building\", \"Natural Place\", \"Village\", \"Animal\",\n",
    "                                     \"Plant\", \"Album\", \"Film\", \"Written Work\"])),\n",
    "    \"agnews\": dict(enumerate([\"World\", \"Sports\", \"Business\", \"Technology\"])),\n",
    "}"
   ],
   "metadata": {
    "collapsed": false
   }
  },
  {
   "cell_type": "code",
   "execution_count": 3,
   "outputs": [],
   "source": [
    "from data import load_split_dataset\n",
    "\n",
    "val = {}\n",
    "for dataset in datasets:\n",
    "    _, dataset_val, _ = load_split_dataset(dataset)\n",
    "    val[dataset] = dataset_val"
   ],
   "metadata": {
    "collapsed": false
   }
  },
  {
   "cell_type": "code",
   "execution_count": 4,
   "metadata": {
    "collapsed": true
   },
   "outputs": [],
   "source": [
    "ensembles_data_path = \"ensembles_data\"  # your path to raw ensembles data\n",
    "\n",
    "ensembles = {dataset: {} for dataset in datasets}\n",
    "\n",
    "for pwd, dirs, files in os.walk(ensembles_data_path):\n",
    "    if files:\n",
    "        for file in files:\n",
    "            if not file.endswith(\".out\"):\n",
    "                continue\n",
    "            path = os.path.join(pwd, file)\n",
    "            curr_res = torch.load(path)\n",
    "            dataset = path.split(r\"/\")[2]\n",
    "            model = list(curr_res.keys())[0]\n",
    "\n",
    "            for model in curr_res:\n",
    "                if model not in ensembles[dataset]:\n",
    "                    ensembles[dataset][model] = {}\n",
    "                for pred_method in curr_res[model]:\n",
    "                    if pred_method not in ensembles[dataset][model]:\n",
    "                        ensembles[dataset][model][pred_method] = []\n",
    "                    for seed in curr_res[model][pred_method]:\n",
    "                        for elem in curr_res[model][pred_method][seed][\"probs\"]:\n",
    "                            if not torch.any(torch.isnan(elem[:len(val[dataset])])):\n",
    "                                ensembles[dataset][model][pred_method].append(elem[:len(val[dataset])])"
   ]
  },
  {
   "cell_type": "code",
   "execution_count": 5,
   "outputs": [],
   "source": [
    "size_to_mean_std = {}\n",
    "ensembles_df = {\"dataset\": [], \"model\": [], \"pred_method\": [], \"size\": [], \"mean\": [], \"std\": []}\n",
    "for dataset in [\"trec\", \"sst2\"]:\n",
    "    val_size = len(val[dataset])\n",
    "    size_to_mean_std[dataset] = {}\n",
    "    for model in ensembles[dataset]:\n",
    "        size_to_mean_std[dataset][model] = {}\n",
    "        for pred_method in ensembles[dataset][model]:\n",
    "            size_to_mean_std[dataset][model][pred_method] = {}\n",
    "            for size in range(1, 6):\n",
    "                mean_means = []\n",
    "                for shift in [0, 5, 10]:\n",
    "                    probs = torch.stack([\n",
    "                        torch.nn.functional.softmax(ensembles[dataset][model][pred_method][i + shift]) for i in range(size)\n",
    "                    ])\n",
    "                    answers = [labels_mp[dataset][x.item()] for x in probs.mean(dim=0).argmax(dim=1)]\n",
    "                    mean_mean = (answers == val[dataset]).mean()\n",
    "                    mean_means.append(mean_mean)\n",
    "                size_to_mean_std[dataset][model][pred_method][size] = (np.mean(mean_means), np.std(mean_means))\n",
    "                ensembles_df[\"dataset\"].append(dataset)\n",
    "                ensembles_df[\"model\"].append(model)\n",
    "                ensembles_df[\"pred_method\"].append(pred_method)\n",
    "                ensembles_df[\"size\"].append(size)\n",
    "                ensembles_df[\"mean\"].append(np.mean(mean_means))\n",
    "                ensembles_df[\"std\"].append(np.std(mean_means))"
   ],
   "metadata": {
    "collapsed": false
   }
  },
  {
   "cell_type": "code",
   "execution_count": 6,
   "outputs": [
    {
     "data": {
      "text/plain": "  dataset     model     pred_method  size      mean       std\n0    trec  llama-7b  calibrate_True     1  0.191333  0.042153\n1    trec  llama-7b  calibrate_True     2  0.432667  0.105708\n2    trec  llama-7b  calibrate_True     3  0.460000  0.097379\n3    trec  llama-7b  calibrate_True     4  0.515333  0.049026\n4    trec  llama-7b  calibrate_True     5  0.533333  0.044582",
      "text/html": "<div>\n<style scoped>\n    .dataframe tbody tr th:only-of-type {\n        vertical-align: middle;\n    }\n\n    .dataframe tbody tr th {\n        vertical-align: top;\n    }\n\n    .dataframe thead th {\n        text-align: right;\n    }\n</style>\n<table border=\"1\" class=\"dataframe\">\n  <thead>\n    <tr style=\"text-align: right;\">\n      <th></th>\n      <th>dataset</th>\n      <th>model</th>\n      <th>pred_method</th>\n      <th>size</th>\n      <th>mean</th>\n      <th>std</th>\n    </tr>\n  </thead>\n  <tbody>\n    <tr>\n      <th>0</th>\n      <td>trec</td>\n      <td>llama-7b</td>\n      <td>calibrate_True</td>\n      <td>1</td>\n      <td>0.191333</td>\n      <td>0.042153</td>\n    </tr>\n    <tr>\n      <th>1</th>\n      <td>trec</td>\n      <td>llama-7b</td>\n      <td>calibrate_True</td>\n      <td>2</td>\n      <td>0.432667</td>\n      <td>0.105708</td>\n    </tr>\n    <tr>\n      <th>2</th>\n      <td>trec</td>\n      <td>llama-7b</td>\n      <td>calibrate_True</td>\n      <td>3</td>\n      <td>0.460000</td>\n      <td>0.097379</td>\n    </tr>\n    <tr>\n      <th>3</th>\n      <td>trec</td>\n      <td>llama-7b</td>\n      <td>calibrate_True</td>\n      <td>4</td>\n      <td>0.515333</td>\n      <td>0.049026</td>\n    </tr>\n    <tr>\n      <th>4</th>\n      <td>trec</td>\n      <td>llama-7b</td>\n      <td>calibrate_True</td>\n      <td>5</td>\n      <td>0.533333</td>\n      <td>0.044582</td>\n    </tr>\n  </tbody>\n</table>\n</div>"
     },
     "execution_count": 6,
     "metadata": {},
     "output_type": "execute_result"
    }
   ],
   "source": [
    "ensembles_df = pd.DataFrame(ensembles_df)\n",
    "ensembles_df.head()"
   ],
   "metadata": {
    "collapsed": false
   }
  },
  {
   "cell_type": "code",
   "execution_count": 7,
   "outputs": [],
   "source": [
    "ensembles_df.to_csv(\"ensembles.csv\", index=False)"
   ],
   "metadata": {
    "collapsed": false
   }
  },
  {
   "cell_type": "code",
   "execution_count": null,
   "outputs": [],
   "source": [],
   "metadata": {
    "collapsed": false
   }
  }
 ],
 "metadata": {
  "kernelspec": {
   "display_name": "Python 3",
   "language": "python",
   "name": "python3"
  },
  "language_info": {
   "codemirror_mode": {
    "name": "ipython",
    "version": 2
   },
   "file_extension": ".py",
   "mimetype": "text/x-python",
   "name": "python",
   "nbconvert_exporter": "python",
   "pygments_lexer": "ipython2",
   "version": "2.7.6"
  }
 },
 "nbformat": 4,
 "nbformat_minor": 0
}
